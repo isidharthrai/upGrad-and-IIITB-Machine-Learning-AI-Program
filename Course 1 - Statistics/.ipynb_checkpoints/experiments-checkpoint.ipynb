{
 "cells": [
  {
   "cell_type": "code",
   "execution_count": 78,
   "id": "35e86628",
   "metadata": {},
   "outputs": [],
   "source": [
    "import pandas as pd\n",
    "marks = pd.read_csv('https://media-doselect.s3.amazonaws.com/generic/GZVBQG5pzJeNaL1ve50Rv9YNV/class-grades.csv')\n",
    "#print(#Type your answer here)"
   ]
  },
  {
   "cell_type": "code",
   "execution_count": 79,
   "id": "a41e7f7c",
   "metadata": {},
   "outputs": [
    {
     "data": {
      "text/plain": [
       "Prefix         0\n",
       "Assignment     2\n",
       "Tutorial      12\n",
       "Midterm       16\n",
       "TakeHome       9\n",
       "Final          5\n",
       "dtype: int64"
      ]
     },
     "execution_count": 79,
     "metadata": {},
     "output_type": "execute_result"
    }
   ],
   "source": [
    "marks.isna().sum()"
   ]
  },
  {
   "cell_type": "code",
   "execution_count": 80,
   "id": "da1058d9",
   "metadata": {},
   "outputs": [
    {
     "data": {
      "text/plain": [
       "(99, 6)"
      ]
     },
     "execution_count": 80,
     "metadata": {},
     "output_type": "execute_result"
    }
   ],
   "source": [
    "marks.shape"
   ]
  },
  {
   "cell_type": "code",
   "execution_count": 81,
   "id": "269719c3",
   "metadata": {},
   "outputs": [],
   "source": [
    "marks = marks[~(marks.isnull().sum(axis=1) == 5)]"
   ]
  },
  {
   "cell_type": "code",
   "execution_count": 82,
   "id": "7ed1bb5c",
   "metadata": {},
   "outputs": [
    {
     "data": {
      "text/plain": [
       "(97, 6)"
      ]
     },
     "execution_count": 82,
     "metadata": {},
     "output_type": "execute_result"
    }
   ],
   "source": [
    "marks.shape"
   ]
  },
  {
   "cell_type": "code",
   "execution_count": 83,
   "id": "44c1d87f",
   "metadata": {
    "scrolled": true
   },
   "outputs": [
    {
     "data": {
      "text/plain": [
       "Prefix         0\n",
       "Assignment     0\n",
       "Tutorial      10\n",
       "Midterm       14\n",
       "TakeHome       7\n",
       "Final          3\n",
       "dtype: int64"
      ]
     },
     "execution_count": 83,
     "metadata": {},
     "output_type": "execute_result"
    }
   ],
   "source": [
    "marks.isna().sum()"
   ]
  },
  {
   "cell_type": "markdown",
   "id": "03f50b61",
   "metadata": {},
   "source": [
    "## problem 2"
   ]
  },
  {
   "cell_type": "code",
   "execution_count": 94,
   "id": "eadcc360",
   "metadata": {},
   "outputs": [
    {
     "name": "stdout",
     "output_type": "stream",
     "text": [
      "        Customer_Name Province   Region Customer_Segment Cust_id\n",
      "0  MUHAMMED MACINTYRE  NUNAVUT  NUNAVUT   SMALL BUSINESS       1\n",
      "1        BARRY FRENCH  NUNAVUT  NUNAVUT         CONSUMER       2\n",
      "2       CLAY ROZENDAL  NUNAVUT  NUNAVUT        CORPORATE       3\n",
      "3      CARLOS SOLTERO  NUNAVUT  NUNAVUT         CONSUMER       4\n",
      "4        CARL JACKSON  NUNAVUT  NUNAVUT        CORPORATE       5\n",
      "5      MONICA FEDERLE  NUNAVUT  NUNAVUT        CORPORATE       6\n",
      "6     DOROTHY BADDERS  NUNAVUT  NUNAVUT      HOME OFFICE       7\n",
      "7     NEOLA SCHNEIDER  NUNAVUT  NUNAVUT      HOME OFFICE       8\n",
      "8         CARLOS DALY  NUNAVUT  NUNAVUT      HOME OFFICE       9\n",
      "9       CLAUDIA MINER  NUNAVUT  NUNAVUT   SMALL BUSINESS      10\n"
     ]
    }
   ],
   "source": [
    "import pandas as pd\n",
    "customer = pd.read_csv('https://media-doselect.s3.amazonaws.com/generic/9B2ZPE1apMvqrLWx7p8ge9dqX/cust_dimen.csv')\n",
    "\n",
    "customer['Cust_id'] = customer['Cust_id'].str.replace('Cust_','')#Type your code here\n",
    "print(customer.head(10))"
   ]
  },
  {
   "cell_type": "markdown",
   "id": "01e838c8",
   "metadata": {},
   "source": [
    "## problem 3"
   ]
  },
  {
   "cell_type": "code",
   "execution_count": 98,
   "id": "54d204c4",
   "metadata": {},
   "outputs": [],
   "source": [
    "import pandas as pd\n",
    "rating = pd.read_csv('https://media-doselect.s3.amazonaws.com/generic/JPAqXRWexo7nybkQ7BjPLWVN/rating_final.csv')\n",
    "\n",
    "# rating_update = rating[]\n",
    "\n",
    "# print(rating.shape)\n",
    "# print(rating_update.shape)"
   ]
  },
  {
   "cell_type": "code",
   "execution_count": 97,
   "id": "d505e9ff",
   "metadata": {},
   "outputs": [
    {
     "data": {
      "text/html": [
       "<div>\n",
       "<style scoped>\n",
       "    .dataframe tbody tr th:only-of-type {\n",
       "        vertical-align: middle;\n",
       "    }\n",
       "\n",
       "    .dataframe tbody tr th {\n",
       "        vertical-align: top;\n",
       "    }\n",
       "\n",
       "    .dataframe thead th {\n",
       "        text-align: right;\n",
       "    }\n",
       "</style>\n",
       "<table border=\"1\" class=\"dataframe\">\n",
       "  <thead>\n",
       "    <tr style=\"text-align: right;\">\n",
       "      <th></th>\n",
       "      <th>userID</th>\n",
       "      <th>placeID</th>\n",
       "      <th>rating</th>\n",
       "      <th>food_rating</th>\n",
       "      <th>service_rating</th>\n",
       "    </tr>\n",
       "  </thead>\n",
       "  <tbody>\n",
       "    <tr>\n",
       "      <th>0</th>\n",
       "      <td>U1077</td>\n",
       "      <td>135085</td>\n",
       "      <td>2</td>\n",
       "      <td>2</td>\n",
       "      <td>2</td>\n",
       "    </tr>\n",
       "    <tr>\n",
       "      <th>1</th>\n",
       "      <td>U1077</td>\n",
       "      <td>135038</td>\n",
       "      <td>2</td>\n",
       "      <td>2</td>\n",
       "      <td>1</td>\n",
       "    </tr>\n",
       "    <tr>\n",
       "      <th>2</th>\n",
       "      <td>U1077</td>\n",
       "      <td>132825</td>\n",
       "      <td>2</td>\n",
       "      <td>2</td>\n",
       "      <td>2</td>\n",
       "    </tr>\n",
       "    <tr>\n",
       "      <th>3</th>\n",
       "      <td>U1077</td>\n",
       "      <td>135060</td>\n",
       "      <td>1</td>\n",
       "      <td>2</td>\n",
       "      <td>2</td>\n",
       "    </tr>\n",
       "    <tr>\n",
       "      <th>4</th>\n",
       "      <td>U1068</td>\n",
       "      <td>135104</td>\n",
       "      <td>1</td>\n",
       "      <td>1</td>\n",
       "      <td>2</td>\n",
       "    </tr>\n",
       "    <tr>\n",
       "      <th>...</th>\n",
       "      <td>...</td>\n",
       "      <td>...</td>\n",
       "      <td>...</td>\n",
       "      <td>...</td>\n",
       "      <td>...</td>\n",
       "    </tr>\n",
       "    <tr>\n",
       "      <th>1249</th>\n",
       "      <td>U1043</td>\n",
       "      <td>132630</td>\n",
       "      <td>1</td>\n",
       "      <td>1</td>\n",
       "      <td>1</td>\n",
       "    </tr>\n",
       "    <tr>\n",
       "      <th>1250</th>\n",
       "      <td>U1011</td>\n",
       "      <td>132715</td>\n",
       "      <td>1</td>\n",
       "      <td>1</td>\n",
       "      <td>0</td>\n",
       "    </tr>\n",
       "    <tr>\n",
       "      <th>1251</th>\n",
       "      <td>U1068</td>\n",
       "      <td>132733</td>\n",
       "      <td>1</td>\n",
       "      <td>1</td>\n",
       "      <td>0</td>\n",
       "    </tr>\n",
       "    <tr>\n",
       "      <th>1252</th>\n",
       "      <td>U1068</td>\n",
       "      <td>132594</td>\n",
       "      <td>1</td>\n",
       "      <td>1</td>\n",
       "      <td>1</td>\n",
       "    </tr>\n",
       "    <tr>\n",
       "      <th>1253</th>\n",
       "      <td>U1068</td>\n",
       "      <td>132660</td>\n",
       "      <td>0</td>\n",
       "      <td>0</td>\n",
       "      <td>0</td>\n",
       "    </tr>\n",
       "  </tbody>\n",
       "</table>\n",
       "<p>1149 rows × 5 columns</p>\n",
       "</div>"
      ],
      "text/plain": [
       "     userID  placeID  rating  food_rating  service_rating\n",
       "0     U1077   135085       2            2               2\n",
       "1     U1077   135038       2            2               1\n",
       "2     U1077   132825       2            2               2\n",
       "3     U1077   135060       1            2               2\n",
       "4     U1068   135104       1            1               2\n",
       "...     ...      ...     ...          ...             ...\n",
       "1249  U1043   132630       1            1               1\n",
       "1250  U1011   132715       1            1               0\n",
       "1251  U1068   132733       1            1               0\n",
       "1252  U1068   132594       1            1               1\n",
       "1253  U1068   132660       0            0               0\n",
       "\n",
       "[1149 rows x 5 columns]"
      ]
     },
     "execution_count": 97,
     "metadata": {},
     "output_type": "execute_result"
    }
   ],
   "source": [
    "rating.drop_duplicates()"
   ]
  },
  {
   "cell_type": "code",
   "execution_count": 99,
   "id": "ac31c8bd",
   "metadata": {},
   "outputs": [
    {
     "data": {
      "text/plain": [
       "(1254, 5)"
      ]
     },
     "execution_count": 99,
     "metadata": {},
     "output_type": "execute_result"
    }
   ],
   "source": [
    "rating.shape"
   ]
  },
  {
   "cell_type": "raw",
   "id": "5fc60713",
   "metadata": {},
   "source": []
  },
  {
   "cell_type": "code",
   "execution_count": null,
   "id": "7e839f45",
   "metadata": {},
   "outputs": [],
   "source": []
  }
 ],
 "metadata": {
  "kernelspec": {
   "display_name": "Python 3 (ipykernel)",
   "language": "python",
   "name": "python3"
  },
  "language_info": {
   "codemirror_mode": {
    "name": "ipython",
    "version": 3
   },
   "file_extension": ".py",
   "mimetype": "text/x-python",
   "name": "python",
   "nbconvert_exporter": "python",
   "pygments_lexer": "ipython3",
   "version": "3.11.5"
  }
 },
 "nbformat": 4,
 "nbformat_minor": 5
}
