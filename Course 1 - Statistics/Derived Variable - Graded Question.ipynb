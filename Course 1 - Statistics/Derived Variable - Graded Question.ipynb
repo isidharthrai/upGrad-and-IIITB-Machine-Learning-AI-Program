{
 "cells": [
  {
   "cell_type": "code",
   "execution_count": 23,
   "id": "80f74ad4",
   "metadata": {},
   "outputs": [],
   "source": [
    "import pandas as pd, numpy as np, matplotlib.pyplot as plt"
   ]
  },
  {
   "cell_type": "code",
   "execution_count": 2,
   "id": "47a4f43d",
   "metadata": {},
   "outputs": [],
   "source": [
    "df = pd.read_csv('Dataset/grades.csv')"
   ]
  },
  {
   "cell_type": "code",
   "execution_count": 3,
   "id": "bb507fef",
   "metadata": {},
   "outputs": [
    {
     "data": {
      "text/html": [
       "<div>\n",
       "<style scoped>\n",
       "    .dataframe tbody tr th:only-of-type {\n",
       "        vertical-align: middle;\n",
       "    }\n",
       "\n",
       "    .dataframe tbody tr th {\n",
       "        vertical-align: top;\n",
       "    }\n",
       "\n",
       "    .dataframe thead th {\n",
       "        text-align: right;\n",
       "    }\n",
       "</style>\n",
       "<table border=\"1\" class=\"dataframe\">\n",
       "  <thead>\n",
       "    <tr style=\"text-align: right;\">\n",
       "      <th></th>\n",
       "      <th>submission</th>\n",
       "      <th>submit_time</th>\n",
       "    </tr>\n",
       "  </thead>\n",
       "  <tbody>\n",
       "    <tr>\n",
       "      <th>0</th>\n",
       "      <td>https://ckd.upgrad.com/UpGrad/73ba5189-94fd-44...</td>\n",
       "      <td>01/03/17-20:28:52</td>\n",
       "    </tr>\n",
       "    <tr>\n",
       "      <th>1</th>\n",
       "      <td>https://ckd.upgrad.com/UpGrad/185242ff-7508-4c...</td>\n",
       "      <td>01/03/17-20:18:21</td>\n",
       "    </tr>\n",
       "    <tr>\n",
       "      <th>2</th>\n",
       "      <td>https://ckd.upgrad.com/UpGrad/a353d129-c100-43...</td>\n",
       "      <td>01/03/17-22:37:08</td>\n",
       "    </tr>\n",
       "    <tr>\n",
       "      <th>3</th>\n",
       "      <td>https://ckd.upgrad.com/UpGrad/002fc912-faa1-49...</td>\n",
       "      <td>01/02/17-21:43:19</td>\n",
       "    </tr>\n",
       "    <tr>\n",
       "      <th>4</th>\n",
       "      <td>https://ckd.upgrad.com/UpGrad/25cbc4a4-6d49-4f...</td>\n",
       "      <td>01/03/17-15:27:49</td>\n",
       "    </tr>\n",
       "  </tbody>\n",
       "</table>\n",
       "</div>"
      ],
      "text/plain": [
       "                                          submission        submit_time\n",
       "0  https://ckd.upgrad.com/UpGrad/73ba5189-94fd-44...  01/03/17-20:28:52\n",
       "1  https://ckd.upgrad.com/UpGrad/185242ff-7508-4c...  01/03/17-20:18:21\n",
       "2  https://ckd.upgrad.com/UpGrad/a353d129-c100-43...  01/03/17-22:37:08\n",
       "3  https://ckd.upgrad.com/UpGrad/002fc912-faa1-49...  01/02/17-21:43:19\n",
       "4  https://ckd.upgrad.com/UpGrad/25cbc4a4-6d49-4f...  01/03/17-15:27:49"
      ]
     },
     "execution_count": 3,
     "metadata": {},
     "output_type": "execute_result"
    }
   ],
   "source": [
    "df.head()"
   ]
  },
  {
   "cell_type": "markdown",
   "id": "dcd412b7",
   "metadata": {},
   "source": [
    "Ques1"
   ]
  },
  {
   "cell_type": "code",
   "execution_count": 4,
   "id": "4033f17f",
   "metadata": {},
   "outputs": [],
   "source": [
    "df2 = df[df.submission.str.contains('.zip')]"
   ]
  },
  {
   "cell_type": "code",
   "execution_count": 5,
   "id": "f0363eca",
   "metadata": {},
   "outputs": [
    {
     "name": "stdout",
     "output_type": "stream",
     "text": [
      "198\n"
     ]
    }
   ],
   "source": [
    "total_rec = df.shape[0]\n",
    "print(total_rec)"
   ]
  },
  {
   "cell_type": "code",
   "execution_count": 6,
   "id": "77979c56",
   "metadata": {
    "scrolled": true
   },
   "outputs": [
    {
     "name": "stdout",
     "output_type": "stream",
     "text": [
      "189\n"
     ]
    }
   ],
   "source": [
    "total_zip_submission = df2.shape[0]\n",
    "print(total_zip_submission)"
   ]
  },
  {
   "cell_type": "code",
   "execution_count": 7,
   "id": "d83b806e",
   "metadata": {},
   "outputs": [],
   "source": [
    "percent_of_zip_submission = round((total_zip_submission/total_rec)*100)"
   ]
  },
  {
   "cell_type": "code",
   "execution_count": 8,
   "id": "ba89d383",
   "metadata": {},
   "outputs": [
    {
     "name": "stdout",
     "output_type": "stream",
     "text": [
      "95 %\n"
     ]
    }
   ],
   "source": [
    "print(percent_of_zip_submission,'%')"
   ]
  },
  {
   "cell_type": "markdown",
   "id": "8ffd09d5",
   "metadata": {},
   "source": [
    "Ques2 - ans 44, but wrong"
   ]
  },
  {
   "cell_type": "code",
   "execution_count": 9,
   "id": "8b46e97b",
   "metadata": {
    "scrolled": true
   },
   "outputs": [
    {
     "name": "stdout",
     "output_type": "stream",
     "text": [
      "<class 'pandas.core.frame.DataFrame'>\n",
      "RangeIndex: 198 entries, 0 to 197\n",
      "Data columns (total 2 columns):\n",
      " #   Column       Non-Null Count  Dtype \n",
      "---  ------       --------------  ----- \n",
      " 0   submission   198 non-null    object\n",
      " 1   submit_time  198 non-null    object\n",
      "dtypes: object(2)\n",
      "memory usage: 3.2+ KB\n"
     ]
    }
   ],
   "source": [
    "df.info()"
   ]
  },
  {
   "cell_type": "code",
   "execution_count": 10,
   "id": "f105fb98",
   "metadata": {},
   "outputs": [],
   "source": [
    "df['submit_time'] = pd.to_datetime(df['submit_time'])"
   ]
  },
  {
   "cell_type": "code",
   "execution_count": 11,
   "id": "5838d4b9",
   "metadata": {},
   "outputs": [
    {
     "name": "stdout",
     "output_type": "stream",
     "text": [
      "<class 'pandas.core.frame.DataFrame'>\n",
      "RangeIndex: 198 entries, 0 to 197\n",
      "Data columns (total 2 columns):\n",
      " #   Column       Non-Null Count  Dtype         \n",
      "---  ------       --------------  -----         \n",
      " 0   submission   198 non-null    object        \n",
      " 1   submit_time  198 non-null    datetime64[ns]\n",
      "dtypes: datetime64[ns](1), object(1)\n",
      "memory usage: 3.2+ KB\n"
     ]
    }
   ],
   "source": [
    "df.info()"
   ]
  },
  {
   "cell_type": "code",
   "execution_count": 12,
   "id": "13fc1746",
   "metadata": {},
   "outputs": [],
   "source": [
    "#deadline 1 - Jan 3, 2017 - 11:59:59\n",
    "first_deadline = pd.to_datetime('2017-01-03 11:59:59')\n",
    "df['bla'] = df['submit_time'].apply(lambda x: 1 if x > first_deadline else 0)"
   ]
  },
  {
   "cell_type": "code",
   "execution_count": 13,
   "id": "b6901ce0",
   "metadata": {
    "scrolled": true
   },
   "outputs": [
    {
     "data": {
      "text/plain": [
       "156"
      ]
     },
     "execution_count": 13,
     "metadata": {},
     "output_type": "execute_result"
    }
   ],
   "source": [
    "df['bla'].sum()"
   ]
  },
  {
   "cell_type": "markdown",
   "id": "9c8d2ecf",
   "metadata": {},
   "source": [
    "Ques 3"
   ]
  },
  {
   "cell_type": "code",
   "execution_count": 14,
   "id": "879cb70c",
   "metadata": {},
   "outputs": [],
   "source": [
    "df['Date'] = df['submit_time'].dt.date"
   ]
  },
  {
   "cell_type": "code",
   "execution_count": 15,
   "id": "c228cd5e",
   "metadata": {
    "scrolled": true
   },
   "outputs": [
    {
     "data": {
      "text/plain": [
       "2017-01-03    120\n",
       "2017-01-09     21\n",
       "2017-01-02     14\n",
       "2017-01-04     12\n",
       "2016-12-30      6\n",
       "2017-01-01      6\n",
       "2017-01-08      3\n",
       "2017-01-10      3\n",
       "2016-12-29      2\n",
       "2016-12-28      2\n",
       "2017-01-07      2\n",
       "2017-01-17      1\n",
       "2017-02-03      1\n",
       "2016-12-21      1\n",
       "2017-01-06      1\n",
       "2016-11-19      1\n",
       "2016-12-31      1\n",
       "2016-12-19      1\n",
       "Name: Date, dtype: int64"
      ]
     },
     "execution_count": 15,
     "metadata": {},
     "output_type": "execute_result"
    }
   ],
   "source": [
    "df['Date'].value_counts()"
   ]
  },
  {
   "cell_type": "markdown",
   "id": "a3388423",
   "metadata": {},
   "source": [
    "Ques 4"
   ]
  },
  {
   "cell_type": "code",
   "execution_count": 16,
   "id": "e3790269",
   "metadata": {},
   "outputs": [],
   "source": [
    "df['hour'] = df['submit_time'].dt.hour"
   ]
  },
  {
   "cell_type": "code",
   "execution_count": 17,
   "id": "d54f136c",
   "metadata": {},
   "outputs": [
    {
     "data": {
      "text/plain": [
       "23    66\n",
       "21    27\n",
       "22    24\n",
       "20    16\n",
       "0     10\n",
       "1      8\n",
       "14     6\n",
       "18     6\n",
       "13     6\n",
       "15     4\n",
       "17     4\n",
       "12     3\n",
       "10     3\n",
       "3      3\n",
       "19     2\n",
       "4      2\n",
       "16     2\n",
       "2      2\n",
       "6      1\n",
       "8      1\n",
       "11     1\n",
       "9      1\n",
       "Name: hour, dtype: int64"
      ]
     },
     "execution_count": 17,
     "metadata": {},
     "output_type": "execute_result"
    }
   ],
   "source": [
    "df['hour'].value_counts()"
   ]
  },
  {
   "cell_type": "markdown",
   "id": "2efee591",
   "metadata": {},
   "source": [
    "Ques 5"
   ]
  },
  {
   "cell_type": "code",
   "execution_count": 27,
   "id": "80f60b97",
   "metadata": {},
   "outputs": [
    {
     "data": {
      "image/png": "[encoded data removed]",
      "text/plain": [
       "<Figure size 640x480 with 1 Axes>"
      ]
     },
     "metadata": {},
     "output_type": "display_data"
    }
   ],
   "source": [
    "plt.hist(df['hour'], bins=24)\n",
    "plt.xticks(range(0, 24))\n",
    "plt.show()"
   ]
  },
  {
   "cell_type": "code",
   "execution_count": null,
   "id": "7f561255",
   "metadata": {},
   "outputs": [],
   "source": []
  }
 ],
 "metadata": {
  "kernelspec": {
   "display_name": "Python 3 (ipykernel)",
   "language": "python",
   "name": "python3"
  },
  "language_info": {
   "codemirror_mode": {
    "name": "ipython",
    "version": 3
   },
   "file_extension": ".py",
   "mimetype": "text/x-python",
   "name": "python",
   "nbconvert_exporter": "python",
   "pygments_lexer": "ipython3",
   "version": "3.11.5"
  }
 },
 "nbformat": 4,
 "nbformat_minor": 5
}
