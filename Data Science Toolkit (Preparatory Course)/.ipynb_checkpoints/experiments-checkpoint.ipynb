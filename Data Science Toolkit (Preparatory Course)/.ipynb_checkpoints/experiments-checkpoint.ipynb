{
 "cells": [
  {
   "cell_type": "code",
   "execution_count": 2,
   "id": "519d8e36",
   "metadata": {},
   "outputs": [
    {
     "data": {
      "text/plain": [
       "71.42857142857143"
      ]
     },
     "execution_count": 2,
     "metadata": {},
     "output_type": "execute_result"
    }
   ],
   "source": [
    "500/7"
   ]
  },
  {
   "cell_type": "code",
   "execution_count": 3,
   "id": "e73354c3",
   "metadata": {},
   "outputs": [
    {
     "data": {
      "text/plain": [
       "71"
      ]
     },
     "execution_count": 3,
     "metadata": {},
     "output_type": "execute_result"
    }
   ],
   "source": [
    "500//7"
   ]
  },
  {
   "cell_type": "code",
   "execution_count": 4,
   "id": "306a0a78",
   "metadata": {},
   "outputs": [
    {
     "data": {
      "text/plain": [
       "1"
      ]
     },
     "execution_count": 4,
     "metadata": {},
     "output_type": "execute_result"
    }
   ],
   "source": [
    " ((500//7) % 5) ** 3"
   ]
  },
  {
   "cell_type": "code",
   "execution_count": 25,
   "id": "96e22475",
   "metadata": {},
   "outputs": [
    {
     "data": {
      "text/plain": [
       "[1, 2, 3, 1, 2, 3]"
      ]
     },
     "execution_count": 25,
     "metadata": {},
     "output_type": "execute_result"
    }
   ],
   "source": [
    "L = [1, 2, 3]\n",
    "L*2"
   ]
  },
  {
   "cell_type": "code",
   "execution_count": 26,
   "id": "8b4e7397",
   "metadata": {},
   "outputs": [
    {
     "data": {
      "text/plain": [
       "[1, 4, 9]"
      ]
     },
     "execution_count": 26,
     "metadata": {},
     "output_type": "execute_result"
    }
   ],
   "source": [
    "list(map(lambda x : x ** 2, L))"
   ]
  },
  {
   "cell_type": "code",
   "execution_count": 6,
   "id": "7e1fae86",
   "metadata": {},
   "outputs": [
    {
     "data": {
      "text/plain": [
       "[[7, 8, 9, 10]]"
      ]
     },
     "execution_count": 6,
     "metadata": {},
     "output_type": "execute_result"
    }
   ],
   "source": [
    "L = [[1, 2, 3], [4, 5, 6], [7, 8, 9, 10]]\n",
    "L[2:]"
   ]
  },
  {
   "cell_type": "code",
   "execution_count": 8,
   "id": "23a817c4",
   "metadata": {},
   "outputs": [
    {
     "ename": "AttributeError",
     "evalue": "'tuple' object has no attribute 'append'",
     "output_type": "error",
     "traceback": [
      "\u001b[1;31m---------------------------------------------------------------------------\u001b[0m",
      "\u001b[1;31mAttributeError\u001b[0m                            Traceback (most recent call last)",
      "Cell \u001b[1;32mIn[8], line 2\u001b[0m\n\u001b[0;32m      1\u001b[0m T \u001b[38;5;241m=\u001b[39m (\u001b[38;5;241m3\u001b[39m, \u001b[38;5;241m5\u001b[39m, \u001b[38;5;241m7\u001b[39m, \u001b[38;5;241m11\u001b[39m)\n\u001b[1;32m----> 2\u001b[0m T\u001b[38;5;241m.\u001b[39mappend(\u001b[38;5;241m9\u001b[39m)\n",
      "\u001b[1;31mAttributeError\u001b[0m: 'tuple' object has no attribute 'append'"
     ]
    }
   ],
   "source": [
    "T = (3, 5, 7, 11)\n",
    "T.append(9)"
   ]
  },
  {
   "cell_type": "code",
   "execution_count": 9,
   "id": "0a17cc16",
   "metadata": {},
   "outputs": [
    {
     "name": "stdout",
     "output_type": "stream",
     "text": [
      "1\n",
      "2\n",
      "3\n"
     ]
    }
   ],
   "source": [
    "D = {1:['Raj', 22], 2:['Simran', 21], 3:['Rahul', 40]}\n",
    "for val in D:\n",
    "     print(val)"
   ]
  },
  {
   "cell_type": "code",
   "execution_count": 13,
   "id": "0dd4755a",
   "metadata": {},
   "outputs": [
    {
     "name": "stdout",
     "output_type": "stream",
     "text": [
      "['I', 'a', 'm', 'i', 'n', 'G', 'u', 'r', 'g', 'a', 'o', 'n', ',', 'a', 'n', 'd', 'w', 'a', 'n', 't', 't', 'o', 'g', 'o', 't', 'o', 'c', 'h', 'a', 'n', 'd', 'i', 'g', 'a', 'r', 'h']\n"
     ]
    }
   ],
   "source": [
    "paragraph = \"I am in Gurgaon, and want to go to chandigarh\"\n",
    "single_word_list = []\n",
    "for sentence in paragraph:\n",
    "    for word in sentence.split():\n",
    "        single_word_list.append(word)\n",
    "print(single_word_list)"
   ]
  },
  {
   "cell_type": "code",
   "execution_count": 17,
   "id": "32e67ace",
   "metadata": {},
   "outputs": [
    {
     "data": {
      "text/plain": [
       "True"
      ]
     },
     "execution_count": 17,
     "metadata": {},
     "output_type": "execute_result"
    }
   ],
   "source": [
    "single_word_list2 = [word for sentence in paragraph for word in sentence.split()]\n",
    "single_word_list == single_word_list2"
   ]
  },
  {
   "cell_type": "code",
   "execution_count": 18,
   "id": "de5634ce",
   "metadata": {},
   "outputs": [
    {
     "name": "stdout",
     "output_type": "stream",
     "text": [
      "15\n",
      "21\n"
     ]
    }
   ],
   "source": [
    "def my_func(*args):\n",
    "    return(sum(args))\n",
    "\n",
    "print(my_func(1,2,3,4,5))\n",
    "print(my_func(6,7,8))"
   ]
  },
  {
   "cell_type": "code",
   "execution_count": 33,
   "id": "64051a1b",
   "metadata": {},
   "outputs": [
    {
     "name": "stdout",
     "output_type": "stream",
     "text": [
      "720\n"
     ]
    }
   ],
   "source": [
    "# Read the input as an integer\n",
    "n = 6\n",
    "\n",
    "# Import the reduce() function\n",
    "from functools import reduce\n",
    "\n",
    "# Write your code here\n",
    "print(reduce(lambda x,y: x * y, range(1,n+1)))\n"
   ]
  },
  {
   "cell_type": "code",
   "execution_count": 70,
   "id": "d28f860f",
   "metadata": {},
   "outputs": [
    {
     "name": "stdout",
     "output_type": "stream",
     "text": [
      "[2, 5, 9, 13]\n",
      "[16]\n",
      "[12, 15, 16]\n",
      "[3, 8, 14, 20]\n"
     ]
    }
   ],
   "source": [
    "C = [2, 5, 9, 12, 13, 15, 16, 17, 18, 19] #cricket\n",
    "F = [2, 4, 5, 6, 7, 9, 13, 16] #football\n",
    "H = [1, 2, 5, 9, 10, 11, 12, 13, 15] #hockey\n",
    "\n",
    "#convertSet\n",
    "C = set(C)\n",
    "F = set(F)\n",
    "H = set(H)\n",
    "\n",
    "#Students who play all the three sports\n",
    "#print(sorted(list(C.intersection(F,H))))\n",
    "print(sorted(list( C & F & H )))\n",
    "\n",
    "#Students who play both cricket and football but don’t play hockey\n",
    "print(sorted(list( (C & F) - H )))\n",
    "\n",
    "#Students who play exactly two of the sports\n",
    "print(sorted(list( (C&F) ^ (F&H) ^ (C&H) - (C&F&H) )))\n",
    "\n",
    "#Students who don’t play any of the three sports\n",
    "all_students = set(range(1,21))\n",
    "print(sorted(list( all_students - C - F - H )))"
   ]
  },
  {
   "cell_type": "code",
   "execution_count": null,
   "id": "eeb57b5f",
   "metadata": {},
   "outputs": [],
   "source": []
  }
 ],
 "metadata": {
  "kernelspec": {
   "display_name": "Python 3 (ipykernel)",
   "language": "python",
   "name": "python3"
  },
  "language_info": {
   "codemirror_mode": {
    "name": "ipython",
    "version": 3
   },
   "file_extension": ".py",
   "mimetype": "text/x-python",
   "name": "python",
   "nbconvert_exporter": "python",
   "pygments_lexer": "ipython3",
   "version": "3.11.5"
  }
 },
 "nbformat": 4,
 "nbformat_minor": 5
}
